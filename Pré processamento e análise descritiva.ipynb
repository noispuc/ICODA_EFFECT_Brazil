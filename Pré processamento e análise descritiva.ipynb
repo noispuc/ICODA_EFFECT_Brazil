{
 "cells": [
  {
   "cell_type": "code",
   "execution_count": 34,
   "metadata": {},
   "outputs": [],
   "source": [
    "import pandas as pd\n",
    "import psycopg2\n",
    "from sqlalchemy import create_engine\n",
    "import matplotlib.pyplot as plt\n",
    "import seaborn as sns\n",
    "import numpy as np\n",
    "import plotly.express as px"
   ]
  },
  {
   "cell_type": "code",
   "execution_count": 35,
   "metadata": {},
   "outputs": [],
   "source": [
    "#Criando engine do sqlalchemy\n",
    "engine = create_engine('postgresql://postgres@localhost:5432/vacinacao')\n",
    "\n",
    "conn = psycopg2.connect(\"host=localhost dbname=vacinacao user=postgres password=postgres\")\n",
    "cur = conn.cursor()"
   ]
  },
  {
   "cell_type": "code",
   "execution_count": 36,
   "metadata": {},
   "outputs": [
    {
     "data": {
      "text/html": [
       "<div>\n",
       "<style scoped>\n",
       "    .dataframe tbody tr th:only-of-type {\n",
       "        vertical-align: middle;\n",
       "    }\n",
       "\n",
       "    .dataframe tbody tr th {\n",
       "        vertical-align: top;\n",
       "    }\n",
       "\n",
       "    .dataframe thead th {\n",
       "        text-align: right;\n",
       "    }\n",
       "</style>\n",
       "<table border=\"1\" class=\"dataframe\">\n",
       "  <thead>\n",
       "    <tr style=\"text-align: right;\">\n",
       "      <th></th>\n",
       "      <th>estabelecimento_municipio_codigo</th>\n",
       "      <th>estabelecimento_municipio_nome</th>\n",
       "      <th>estabelecimento_uf</th>\n",
       "      <th>sem_epidem_ano</th>\n",
       "      <th>paciente_enumsexobiologico</th>\n",
       "      <th>paciente_racacor_valor</th>\n",
       "      <th>vacina_categoria_nome</th>\n",
       "      <th>vacina_grupoatendimento_nome</th>\n",
       "      <th>vacina_descricao_dose</th>\n",
       "      <th>vacina_nome</th>\n",
       "      <th>qt_vacinados</th>\n",
       "    </tr>\n",
       "  </thead>\n",
       "  <tbody>\n",
       "    <tr>\n",
       "      <th>0</th>\n",
       "      <td>350010</td>\n",
       "      <td>ADAMANTINA</td>\n",
       "      <td>SP</td>\n",
       "      <td>202103</td>\n",
       "      <td>F</td>\n",
       "      <td>AMARELA</td>\n",
       "      <td>Trabalhadores de Saúde</td>\n",
       "      <td>Outros</td>\n",
       "      <td>D1</td>\n",
       "      <td>coronavac</td>\n",
       "      <td>9</td>\n",
       "    </tr>\n",
       "    <tr>\n",
       "      <th>1</th>\n",
       "      <td>350010</td>\n",
       "      <td>ADAMANTINA</td>\n",
       "      <td>SP</td>\n",
       "      <td>202103</td>\n",
       "      <td>F</td>\n",
       "      <td>BRANCA</td>\n",
       "      <td>Trabalhadores de Saúde</td>\n",
       "      <td>Outros</td>\n",
       "      <td>D1</td>\n",
       "      <td>coronavac</td>\n",
       "      <td>95</td>\n",
       "    </tr>\n",
       "    <tr>\n",
       "      <th>2</th>\n",
       "      <td>350010</td>\n",
       "      <td>ADAMANTINA</td>\n",
       "      <td>SP</td>\n",
       "      <td>202103</td>\n",
       "      <td>F</td>\n",
       "      <td>PARDA</td>\n",
       "      <td>Trabalhadores de Saúde</td>\n",
       "      <td>Outros</td>\n",
       "      <td>D1</td>\n",
       "      <td>coronavac</td>\n",
       "      <td>16</td>\n",
       "    </tr>\n",
       "    <tr>\n",
       "      <th>3</th>\n",
       "      <td>350010</td>\n",
       "      <td>ADAMANTINA</td>\n",
       "      <td>SP</td>\n",
       "      <td>202103</td>\n",
       "      <td>F</td>\n",
       "      <td>PRETA</td>\n",
       "      <td>Trabalhadores de Saúde</td>\n",
       "      <td>Outros</td>\n",
       "      <td>D1</td>\n",
       "      <td>coronavac</td>\n",
       "      <td>4</td>\n",
       "    </tr>\n",
       "    <tr>\n",
       "      <th>4</th>\n",
       "      <td>350010</td>\n",
       "      <td>ADAMANTINA</td>\n",
       "      <td>SP</td>\n",
       "      <td>202103</td>\n",
       "      <td>F</td>\n",
       "      <td>SEM INFORMACAO</td>\n",
       "      <td>Trabalhadores de Saúde</td>\n",
       "      <td>Outros</td>\n",
       "      <td>D1</td>\n",
       "      <td>coronavac</td>\n",
       "      <td>24</td>\n",
       "    </tr>\n",
       "  </tbody>\n",
       "</table>\n",
       "</div>"
      ],
      "text/plain": [
       "   estabelecimento_municipio_codigo estabelecimento_municipio_nome  \\\n",
       "0                            350010                     ADAMANTINA   \n",
       "1                            350010                     ADAMANTINA   \n",
       "2                            350010                     ADAMANTINA   \n",
       "3                            350010                     ADAMANTINA   \n",
       "4                            350010                     ADAMANTINA   \n",
       "\n",
       "  estabelecimento_uf  sem_epidem_ano paciente_enumsexobiologico  \\\n",
       "0                 SP          202103                          F   \n",
       "1                 SP          202103                          F   \n",
       "2                 SP          202103                          F   \n",
       "3                 SP          202103                          F   \n",
       "4                 SP          202103                          F   \n",
       "\n",
       "  paciente_racacor_valor   vacina_categoria_nome vacina_grupoatendimento_nome  \\\n",
       "0                AMARELA  Trabalhadores de Saúde                       Outros   \n",
       "1                 BRANCA  Trabalhadores de Saúde                       Outros   \n",
       "2                  PARDA  Trabalhadores de Saúde                       Outros   \n",
       "3                  PRETA  Trabalhadores de Saúde                       Outros   \n",
       "4         SEM INFORMACAO  Trabalhadores de Saúde                       Outros   \n",
       "\n",
       "  vacina_descricao_dose vacina_nome qt_vacinados  \n",
       "0                    D1   coronavac            9  \n",
       "1                    D1   coronavac           95  \n",
       "2                    D1   coronavac           16  \n",
       "3                    D1   coronavac            4  \n",
       "4                    D1   coronavac           24  "
      ]
     },
     "execution_count": 36,
     "metadata": {},
     "output_type": "execute_result"
    }
   ],
   "source": [
    "#Importando a base que foi tratada (agrupada) no SQL\n",
    "#BASE SÃO PAULO\n",
    "cur.execute(\"\"\"\n",
    "SELECT  * from sipni_tratada_sp\n",
    "\"\"\")\n",
    "sipni_sp=cur.fetchall()\n",
    "\n",
    "df_sipni_sp = pd.DataFrame(sipni_sp, columns = ['estabelecimento_municipio_codigo', 'estabelecimento_municipio_nome','estabelecimento_uf', 'sem_epidem_ano', 'paciente_enumsexobiologico','paciente_racacor_valor', 'vacina_categoria_nome','vacina_grupoatendimento_nome', 'vacina_descricao_dose','vacina_nome','qt_vacinados'])\n",
    "df_sipni_sp.head()"
   ]
  },
  {
   "cell_type": "code",
   "execution_count": 38,
   "metadata": {},
   "outputs": [],
   "source": [
    "#BASE SANTA CATARINA\n",
    "cur.execute(\"\"\"\n",
    "SELECT  * from sipni_tratada_sc\n",
    "\"\"\")\n",
    "sipni_sc=cur.fetchall()\n",
    "\n",
    "df_sipni_sc = pd.DataFrame(sipni_sc, columns = ['estabelecimento_municipio_codigo', 'estabelecimento_municipio_nome','estabelecimento_uf', 'sem_epidem_ano', 'paciente_enumsexobiologico','paciente_racacor_valor', 'vacina_categoria_nome','vacina_grupoatendimento_nome', 'vacina_descricao_dose','vacina_nome','qt_vacinados'])"
   ]
  },
  {
   "cell_type": "code",
   "execution_count": 39,
   "metadata": {},
   "outputs": [],
   "source": [
    "#BASE MATO GROSSO DO SUL\n",
    "cur.execute(\"\"\"\n",
    "SELECT  * from sipni_tratada_ms\n",
    "\"\"\")\n",
    "sipni_ms=cur.fetchall()\n",
    "\n",
    "df_sipni_ms = pd.DataFrame(sipni_ms, columns = ['estabelecimento_municipio_codigo', 'estabelecimento_municipio_nome','estabelecimento_uf', 'sem_epidem_ano', 'paciente_enumsexobiologico','paciente_racacor_valor', 'vacina_categoria_nome','vacina_grupoatendimento_nome', 'vacina_descricao_dose','vacina_nome','qt_vacinados'])"
   ]
  },
  {
   "cell_type": "code",
   "execution_count": 40,
   "metadata": {},
   "outputs": [],
   "source": [
    "#BASE RIO DE JANEIRO\n",
    "cur.execute(\"\"\"\n",
    "SELECT  * from sipni_tratada_rj\n",
    "\"\"\")\n",
    "sipni_rj=cur.fetchall()\n",
    "\n",
    "df_sipni_rj = pd.DataFrame(sipni_rj, columns = ['estabelecimento_municipio_codigo', 'estabelecimento_municipio_nome','estabelecimento_uf', 'sem_epidem_ano', 'paciente_enumsexobiologico','paciente_racacor_valor', 'vacina_categoria_nome','vacina_grupoatendimento_nome', 'vacina_descricao_dose','vacina_nome','qt_vacinados'])"
   ]
  },
  {
   "cell_type": "code",
   "execution_count": 41,
   "metadata": {},
   "outputs": [],
   "source": [
    "#BASE PARÁ\n",
    "cur.execute(\"\"\"\n",
    "SELECT  * from sipni_tratada_pa\n",
    "\"\"\")\n",
    "sipni_pa=cur.fetchall()\n",
    "\n",
    "df_sipni_pa = pd.DataFrame(sipni_pa, columns = ['estabelecimento_municipio_codigo', 'estabelecimento_municipio_nome','estabelecimento_uf', 'sem_epidem_ano', 'paciente_enumsexobiologico','paciente_racacor_valor', 'vacina_categoria_nome','vacina_grupoatendimento_nome', 'vacina_descricao_dose','vacina_nome','qt_vacinados'])"
   ]
  },
  {
   "cell_type": "code",
   "execution_count": 42,
   "metadata": {},
   "outputs": [],
   "source": [
    "#BASE AMAPÁ\n",
    "cur.execute(\"\"\"\n",
    "SELECT  * from sipni_tratada_ap\n",
    "\"\"\")\n",
    "sipni_ap=cur.fetchall()\n",
    "\n",
    "df_sipni_ap = pd.DataFrame(sipni_ap, columns = ['estabelecimento_municipio_codigo', 'estabelecimento_municipio_nome','estabelecimento_uf', 'sem_epidem_ano', 'paciente_enumsexobiologico','paciente_racacor_valor', 'vacina_categoria_nome','vacina_grupoatendimento_nome', 'vacina_descricao_dose','vacina_nome','qt_vacinados'])"
   ]
  },
  {
   "cell_type": "code",
   "execution_count": 43,
   "metadata": {},
   "outputs": [],
   "source": [
    "#BASE RORAIMA\n",
    "cur.execute(\"\"\"\n",
    "SELECT  * from sipni_tratada_rr\n",
    "\"\"\")\n",
    "sipni_rr=cur.fetchall()\n",
    "\n",
    "df_sipni_rr = pd.DataFrame(sipni_rr, columns = ['estabelecimento_municipio_codigo', 'estabelecimento_municipio_nome','estabelecimento_uf', 'sem_epidem_ano', 'paciente_enumsexobiologico','paciente_racacor_valor', 'vacina_categoria_nome','vacina_grupoatendimento_nome', 'vacina_descricao_dose','vacina_nome','qt_vacinados'])"
   ]
  },
  {
   "cell_type": "code",
   "execution_count": 44,
   "metadata": {},
   "outputs": [],
   "source": [
    "#Importando a base tratada no SQL com todos os Estados selecionados\n",
    "#BASE TOTAL\n",
    "cur.execute(\"\"\"\n",
    "SELECT  * from sipni_tratada_total\n",
    "\"\"\")\n",
    "sipni_total=cur.fetchall()\n",
    "\n",
    "df_sipni_total = pd.DataFrame(sipni_total, columns = ['estabelecimento_municipio_codigo', 'estabelecimento_municipio_nome','estabelecimento_uf', 'sem_epidem_ano', 'paciente_enumsexobiologico','paciente_racacor_valor', 'vacina_categoria_nome','vacina_grupoatendimento_nome', 'vacina_descricao_dose','vacina_nome','qt_vacinados'])"
   ]
  },
  {
   "cell_type": "code",
   "execution_count": 45,
   "metadata": {},
   "outputs": [
    {
     "data": {
      "text/html": [
       "<div>\n",
       "<style scoped>\n",
       "    .dataframe tbody tr th:only-of-type {\n",
       "        vertical-align: middle;\n",
       "    }\n",
       "\n",
       "    .dataframe tbody tr th {\n",
       "        vertical-align: top;\n",
       "    }\n",
       "\n",
       "    .dataframe thead th {\n",
       "        text-align: right;\n",
       "    }\n",
       "</style>\n",
       "<table border=\"1\" class=\"dataframe\">\n",
       "  <thead>\n",
       "    <tr style=\"text-align: right;\">\n",
       "      <th></th>\n",
       "      <th>estabelecimento_municipio_codigo</th>\n",
       "      <th>estabelecimento_municipio_nome</th>\n",
       "      <th>estabelecimento_uf</th>\n",
       "      <th>sem_epidem_ano</th>\n",
       "      <th>paciente_enumsexobiologico</th>\n",
       "      <th>paciente_racacor_valor</th>\n",
       "      <th>vacina_categoria_nome</th>\n",
       "      <th>vacina_grupoatendimento_nome</th>\n",
       "      <th>vacina_descricao_dose</th>\n",
       "      <th>vacina_nome</th>\n",
       "      <th>qt_vacinados</th>\n",
       "    </tr>\n",
       "  </thead>\n",
       "  <tbody>\n",
       "    <tr>\n",
       "      <th>0</th>\n",
       "      <td>160005</td>\n",
       "      <td>SERRA DO NAVIO</td>\n",
       "      <td>AP</td>\n",
       "      <td>202103</td>\n",
       "      <td>F</td>\n",
       "      <td>AMARELA</td>\n",
       "      <td>Trabalhadores de Saúde</td>\n",
       "      <td>Enfermeiro(a)</td>\n",
       "      <td>D1</td>\n",
       "      <td>coronavac</td>\n",
       "      <td>1</td>\n",
       "    </tr>\n",
       "    <tr>\n",
       "      <th>1</th>\n",
       "      <td>160005</td>\n",
       "      <td>SERRA DO NAVIO</td>\n",
       "      <td>AP</td>\n",
       "      <td>202103</td>\n",
       "      <td>F</td>\n",
       "      <td>AMARELA</td>\n",
       "      <td>Trabalhadores de Saúde</td>\n",
       "      <td>Odontologista</td>\n",
       "      <td>D1</td>\n",
       "      <td>coronavac</td>\n",
       "      <td>1</td>\n",
       "    </tr>\n",
       "    <tr>\n",
       "      <th>2</th>\n",
       "      <td>160005</td>\n",
       "      <td>SERRA DO NAVIO</td>\n",
       "      <td>AP</td>\n",
       "      <td>202103</td>\n",
       "      <td>F</td>\n",
       "      <td>AMARELA</td>\n",
       "      <td>Trabalhadores de Saúde</td>\n",
       "      <td>Outros</td>\n",
       "      <td>D1</td>\n",
       "      <td>coronavac</td>\n",
       "      <td>5</td>\n",
       "    </tr>\n",
       "    <tr>\n",
       "      <th>3</th>\n",
       "      <td>160005</td>\n",
       "      <td>SERRA DO NAVIO</td>\n",
       "      <td>AP</td>\n",
       "      <td>202103</td>\n",
       "      <td>F</td>\n",
       "      <td>AMARELA</td>\n",
       "      <td>Trabalhadores de Saúde</td>\n",
       "      <td>Profissionais e Auxiliares de limpeza</td>\n",
       "      <td>D1</td>\n",
       "      <td>coronavac</td>\n",
       "      <td>2</td>\n",
       "    </tr>\n",
       "    <tr>\n",
       "      <th>4</th>\n",
       "      <td>160005</td>\n",
       "      <td>SERRA DO NAVIO</td>\n",
       "      <td>AP</td>\n",
       "      <td>202103</td>\n",
       "      <td>F</td>\n",
       "      <td>AMARELA</td>\n",
       "      <td>Trabalhadores de Saúde</td>\n",
       "      <td>Técnico de Enfermagem</td>\n",
       "      <td>D1</td>\n",
       "      <td>coronavac</td>\n",
       "      <td>3</td>\n",
       "    </tr>\n",
       "  </tbody>\n",
       "</table>\n",
       "</div>"
      ],
      "text/plain": [
       "   estabelecimento_municipio_codigo estabelecimento_municipio_nome  \\\n",
       "0                            160005                 SERRA DO NAVIO   \n",
       "1                            160005                 SERRA DO NAVIO   \n",
       "2                            160005                 SERRA DO NAVIO   \n",
       "3                            160005                 SERRA DO NAVIO   \n",
       "4                            160005                 SERRA DO NAVIO   \n",
       "\n",
       "  estabelecimento_uf  sem_epidem_ano paciente_enumsexobiologico  \\\n",
       "0                 AP          202103                          F   \n",
       "1                 AP          202103                          F   \n",
       "2                 AP          202103                          F   \n",
       "3                 AP          202103                          F   \n",
       "4                 AP          202103                          F   \n",
       "\n",
       "  paciente_racacor_valor   vacina_categoria_nome  \\\n",
       "0                AMARELA  Trabalhadores de Saúde   \n",
       "1                AMARELA  Trabalhadores de Saúde   \n",
       "2                AMARELA  Trabalhadores de Saúde   \n",
       "3                AMARELA  Trabalhadores de Saúde   \n",
       "4                AMARELA  Trabalhadores de Saúde   \n",
       "\n",
       "            vacina_grupoatendimento_nome vacina_descricao_dose vacina_nome  \\\n",
       "0                          Enfermeiro(a)                    D1   coronavac   \n",
       "1                          Odontologista                    D1   coronavac   \n",
       "2                                 Outros                    D1   coronavac   \n",
       "3  Profissionais e Auxiliares de limpeza                    D1   coronavac   \n",
       "4                  Técnico de Enfermagem                    D1   coronavac   \n",
       "\n",
       "  qt_vacinados  \n",
       "0            1  \n",
       "1            1  \n",
       "2            5  \n",
       "3            2  \n",
       "4            3  "
      ]
     },
     "execution_count": 45,
     "metadata": {},
     "output_type": "execute_result"
    }
   ],
   "source": [
    "df_sipni_total.head()"
   ]
  },
  {
   "cell_type": "code",
   "execution_count": 46,
   "metadata": {},
   "outputs": [
    {
     "data": {
      "text/plain": [
       "(4014824, 11)"
      ]
     },
     "execution_count": 46,
     "metadata": {},
     "output_type": "execute_result"
    }
   ],
   "source": [
    "df_sipni_total.shape"
   ]
  },
  {
   "cell_type": "code",
   "execution_count": 47,
   "metadata": {},
   "outputs": [
    {
     "data": {
      "text/plain": [
       "estabelecimento_municipio_codigo    0.000000\n",
       "estabelecimento_municipio_nome      0.000000\n",
       "estabelecimento_uf                  0.000000\n",
       "sem_epidem_ano                      0.000000\n",
       "paciente_enumsexobiologico          0.000847\n",
       "paciente_racacor_valor              0.000847\n",
       "vacina_categoria_nome               0.623340\n",
       "vacina_grupoatendimento_nome        0.000000\n",
       "vacina_descricao_dose               0.000000\n",
       "vacina_nome                         0.000000\n",
       "qt_vacinados                        0.000000\n",
       "dtype: float64"
      ]
     },
     "execution_count": 47,
     "metadata": {},
     "output_type": "execute_result"
    }
   ],
   "source": [
    "#Verificando o percentual de dados nulos\n",
    "((df_sipni_total.isnull().sum()/df_sipni_total.shape[0])*100)"
   ]
  },
  {
   "cell_type": "code",
   "execution_count": 15,
   "metadata": {},
   "outputs": [
    {
     "data": {
      "text/plain": [
       "1270"
      ]
     },
     "execution_count": 15,
     "metadata": {},
     "output_type": "execute_result"
    }
   ],
   "source": [
    "#verificando a quantidade de Municípios dos 7 Estados selecionados\n",
    "len(df_sipni_total['estabelecimento_municipio_nome'].unique())"
   ]
  },
  {
   "cell_type": "code",
   "execution_count": 16,
   "metadata": {},
   "outputs": [
    {
     "data": {
      "text/plain": [
       "astrazeneca    1900780\n",
       "coronavac      1443578\n",
       "pfizer          598527\n",
       "janssen          71939\n",
       "Name: vacina_nome, dtype: int64"
      ]
     },
     "execution_count": 16,
     "metadata": {},
     "output_type": "execute_result"
    }
   ],
   "source": [
    "#quantidade de vacinas aplicadas pela marca da vacina\n",
    "df_sipni_total['vacina_nome'].value_counts()"
   ]
  },
  {
   "cell_type": "code",
   "execution_count": 17,
   "metadata": {},
   "outputs": [
    {
     "data": {
      "text/plain": [
       "estabelecimento_municipio_codigo     int64\n",
       "estabelecimento_municipio_nome      object\n",
       "estabelecimento_uf                  object\n",
       "sem_epidem_ano                       int64\n",
       "paciente_enumsexobiologico          object\n",
       "paciente_racacor_valor              object\n",
       "vacina_categoria_nome               object\n",
       "vacina_grupoatendimento_nome        object\n",
       "vacina_descricao_dose               object\n",
       "vacina_nome                         object\n",
       "qt_vacinados                         int32\n",
       "dtype: object"
      ]
     },
     "execution_count": 17,
     "metadata": {},
     "output_type": "execute_result"
    }
   ],
   "source": [
    "df_sipni_total = df_sipni_total.astype({'qt_vacinados':int})\n",
    "df_sipni_total.dtypes"
   ]
  },
  {
   "cell_type": "code",
   "execution_count": 18,
   "metadata": {},
   "outputs": [
    {
     "data": {
      "text/plain": [
       "<AxesSubplot:xlabel='UF do estabelecimento', ylabel='Quantidade de vacinados'>"
      ]
     },
     "execution_count": 18,
     "metadata": {},
     "output_type": "execute_result"
    },
    {
     "data": {
      "image/png": "[encoded data removed]",
      "text/plain": [
       "<Figure size 432x288 with 1 Axes>"
      ]
     },
     "metadata": {
      "needs_background": "light"
     },
     "output_type": "display_data"
    }
   ],
   "source": [
    "#quantidade de vacinas aplicadas pela UF\n",
    "df_sipni_total.groupby(['estabelecimento_uf'])['qt_vacinados'].sum().sort_values(ascending=True).plot(kind = 'bar', xlabel = 'UF do estabelecimento', ylabel = 'Quantidade de vacinados', rot = 0)"
   ]
  },
  {
   "cell_type": "code",
   "execution_count": 19,
   "metadata": {},
   "outputs": [
    {
     "data": {
      "text/plain": [
       "<AxesSubplot:xlabel='Sexo biológico', ylabel='Quantidade de vacinados'>"
      ]
     },
     "execution_count": 19,
     "metadata": {},
     "output_type": "execute_result"
    },
    {
     "data": {
      "image/png": "[encoded data removed]",
      "text/plain": [
       "<Figure size 432x288 with 1 Axes>"
      ]
     },
     "metadata": {
      "needs_background": "light"
     },
     "output_type": "display_data"
    }
   ],
   "source": [
    "#quantidade de vacinas aplicadas pelo sexo biológico\n",
    "df_sipni_total.groupby(['paciente_enumsexobiologico'])['qt_vacinados'].sum().sort_values().plot(kind = 'bar', xlabel = 'Sexo biológico', ylabel = 'Quantidade de vacinados', rot = 0)"
   ]
  },
  {
   "cell_type": "code",
   "execution_count": 20,
   "metadata": {},
   "outputs": [
    {
     "data": {
      "text/plain": [
       "<AxesSubplot:xlabel='Raça', ylabel='Quantidade de vacinados'>"
      ]
     },
     "execution_count": 20,
     "metadata": {},
     "output_type": "execute_result"
    },
    {
     "data": {
      "image/png": "[encoded data removed]",
      "text/plain": [
       "<Figure size 432x288 with 1 Axes>"
      ]
     },
     "metadata": {
      "needs_background": "light"
     },
     "output_type": "display_data"
    }
   ],
   "source": [
    "#quantidade de vacinas aplicadas pela raça\n",
    "df_sipni_total.groupby(['paciente_racacor_valor'])['qt_vacinados'].sum().sort_values().plot(kind = 'bar', xlabel = 'Raça', ylabel = 'Quantidade de vacinados', rot = 45)"
   ]
  },
  {
   "cell_type": "code",
   "execution_count": 22,
   "metadata": {},
   "outputs": [
    {
     "data": {
      "image/png": "[encoded data removed]",
      "text/plain": [
       "<Figure size 432x288 with 1 Axes>"
      ]
     },
     "metadata": {
      "needs_background": "light"
     },
     "output_type": "display_data"
    }
   ],
   "source": [
    "#percentual de vacinas aplicadas pelo nome da vacina\n",
    "vac_nome = df_sipni_total.groupby(['vacina_nome'])['qt_vacinados'].sum().sort_values()\n",
    "vac_nome = vac_nome.reset_index()\n",
    "vac_nome['perc'] = vac_nome['qt_vacinados']/sum(vac_nome['qt_vacinados'])*100\n",
    "\n",
    "plt.bar(vac_nome['vacina_nome'],vac_nome['perc'])\n",
    "plt.ylabel('Percentual de vacinados')\n",
    "plt.xlabel('Nome da Vacina')\n",
    "plt.show()"
   ]
  },
  {
   "cell_type": "code",
   "execution_count": 23,
   "metadata": {},
   "outputs": [
    {
     "data": {
      "text/plain": [
       "<AxesSubplot:xlabel='Dose da Vacina', ylabel='Quantidade de vacinados'>"
      ]
     },
     "execution_count": 23,
     "metadata": {},
     "output_type": "execute_result"
    },
    {
     "data": {
      "image/png": "[encoded data removed]",
      "text/plain": [
       "<Figure size 432x288 with 1 Axes>"
      ]
     },
     "metadata": {
      "needs_background": "light"
     },
     "output_type": "display_data"
    }
   ],
   "source": [
    "#quantidade de vacinas aplicadas por dose\n",
    "df_sipni_total.groupby(['vacina_descricao_dose'])['qt_vacinados'].sum().sort_values().plot(kind = 'bar', xlabel = 'Dose da Vacina', ylabel = 'Quantidade de vacinados', rot = 0)"
   ]
  },
  {
   "cell_type": "code",
   "execution_count": 25,
   "metadata": {},
   "outputs": [
    {
     "data": {
      "image/png": "[encoded data removed]",
      "text/plain": [
       "<Figure size 432x288 with 1 Axes>"
      ]
     },
     "metadata": {
      "needs_background": "light"
     },
     "output_type": "display_data"
    }
   ],
   "source": [
    "#percentual de vacinas aplicadas por grupo de atendimento\n",
    "\n",
    "grupo_atend = df_sipni_total.groupby(['vacina_categoria_nome'])['qt_vacinados'].sum().sort_values()\n",
    "grupo_atend = grupo_atend.reset_index()\n",
    "grupo_atend['perc'] = grupo_atend['qt_vacinados']/sum(grupo_atend['qt_vacinados'])*100\n",
    "\n",
    "plt.barh(grupo_atend['vacina_categoria_nome'],grupo_atend['perc'])\n",
    "plt.ylabel('Percentual de vacinados')\n",
    "plt.xlabel('Grupo atendimento')\n",
    "plt.show()\n"
   ]
  },
  {
   "cell_type": "code",
   "execution_count": 48,
   "metadata": {},
   "outputs": [],
   "source": [
    "#Filtrando somente a segunda dose\n",
    "\n",
    "df_sipni_sp=df_sipni_sp[df_sipni_sp['vacina_descricao_dose']=='D2']\n",
    "df_sipni_rj=df_sipni_rj[df_sipni_rj['vacina_descricao_dose']=='D2']\n",
    "df_sipni_rr=df_sipni_rr[df_sipni_rr['vacina_descricao_dose']=='D2']\n",
    "df_sipni_sc=df_sipni_sc[df_sipni_sc['vacina_descricao_dose']=='D2']\n",
    "df_sipni_ap=df_sipni_ap[df_sipni_ap['vacina_descricao_dose']=='D2']\n",
    "df_sipni_pa=df_sipni_pa[df_sipni_pa['vacina_descricao_dose']=='D2']\n",
    "df_sipni_ms=df_sipni_ms[df_sipni_ms['vacina_descricao_dose']=='D2']"
   ]
  },
  {
   "cell_type": "code",
   "execution_count": 49,
   "metadata": {},
   "outputs": [
    {
     "data": {
      "text/html": [
       "<div>\n",
       "<style scoped>\n",
       "    .dataframe tbody tr th:only-of-type {\n",
       "        vertical-align: middle;\n",
       "    }\n",
       "\n",
       "    .dataframe tbody tr th {\n",
       "        vertical-align: top;\n",
       "    }\n",
       "\n",
       "    .dataframe thead th {\n",
       "        text-align: right;\n",
       "    }\n",
       "</style>\n",
       "<table border=\"1\" class=\"dataframe\">\n",
       "  <thead>\n",
       "    <tr style=\"text-align: right;\">\n",
       "      <th></th>\n",
       "      <th>estabelecimento_municipio_codigo</th>\n",
       "      <th>estabelecimento_municipio_nome</th>\n",
       "      <th>sem_epidem_ano</th>\n",
       "      <th>qt_vacinados</th>\n",
       "      <th>qt_vacinados_acum</th>\n",
       "    </tr>\n",
       "  </thead>\n",
       "  <tbody>\n",
       "    <tr>\n",
       "      <th>0</th>\n",
       "      <td>350010</td>\n",
       "      <td>ADAMANTINA</td>\n",
       "      <td>202106</td>\n",
       "      <td>179</td>\n",
       "      <td>179</td>\n",
       "    </tr>\n",
       "    <tr>\n",
       "      <th>1</th>\n",
       "      <td>350010</td>\n",
       "      <td>ADAMANTINA</td>\n",
       "      <td>202107</td>\n",
       "      <td>435</td>\n",
       "      <td>614</td>\n",
       "    </tr>\n",
       "    <tr>\n",
       "      <th>2</th>\n",
       "      <td>350010</td>\n",
       "      <td>ADAMANTINA</td>\n",
       "      <td>202108</td>\n",
       "      <td>164</td>\n",
       "      <td>778</td>\n",
       "    </tr>\n",
       "    <tr>\n",
       "      <th>3</th>\n",
       "      <td>350010</td>\n",
       "      <td>ADAMANTINA</td>\n",
       "      <td>202109</td>\n",
       "      <td>682</td>\n",
       "      <td>1460</td>\n",
       "    </tr>\n",
       "    <tr>\n",
       "      <th>4</th>\n",
       "      <td>350010</td>\n",
       "      <td>ADAMANTINA</td>\n",
       "      <td>202110</td>\n",
       "      <td>254</td>\n",
       "      <td>1714</td>\n",
       "    </tr>\n",
       "  </tbody>\n",
       "</table>\n",
       "</div>"
      ],
      "text/plain": [
       "   estabelecimento_municipio_codigo estabelecimento_municipio_nome  \\\n",
       "0                            350010                     ADAMANTINA   \n",
       "1                            350010                     ADAMANTINA   \n",
       "2                            350010                     ADAMANTINA   \n",
       "3                            350010                     ADAMANTINA   \n",
       "4                            350010                     ADAMANTINA   \n",
       "\n",
       "   sem_epidem_ano qt_vacinados qt_vacinados_acum  \n",
       "0          202106          179               179  \n",
       "1          202107          435               614  \n",
       "2          202108          164               778  \n",
       "3          202109          682              1460  \n",
       "4          202110          254              1714  "
      ]
     },
     "execution_count": 49,
     "metadata": {},
     "output_type": "execute_result"
    }
   ],
   "source": [
    "#Criando a coluna de quantidade de vacinas acumuladas por municipio e semana epidemiológica\n",
    "\n",
    "# BASE COM COLUNA ACUMULADA SP \n",
    "df_agp_sp = df_sipni_sp.groupby(['estabelecimento_municipio_codigo','estabelecimento_municipio_nome','sem_epidem_ano'])['qt_vacinados'].sum()\n",
    "df_agp_sp = df_agp_sp.reset_index()\n",
    "df_agp_sp['qt_vacinados_acum'] = df_agp_sp.groupby('estabelecimento_municipio_nome')['qt_vacinados'].transform(pd.Series.cumsum)\n",
    "\n",
    "\n",
    "# BASE COM COLUNA ACUMULADA SC\n",
    "df_agp_sc = df_sipni_sc.groupby(['estabelecimento_municipio_codigo','estabelecimento_municipio_nome','sem_epidem_ano'])['qt_vacinados'].sum()\n",
    "df_agp_sc = df_agp_sc.reset_index()\n",
    "df_agp_sc['qt_vacinados_acum'] = df_agp_sc.groupby('estabelecimento_municipio_nome')['qt_vacinados'].transform(pd.Series.cumsum)\n",
    "\n",
    "# BASE COM COLUNA ACUMULADA MS\n",
    "df_agp_ms = df_sipni_ms.groupby(['estabelecimento_municipio_codigo','estabelecimento_municipio_nome','sem_epidem_ano'])['qt_vacinados'].sum()\n",
    "df_agp_ms = df_agp_ms.reset_index()\n",
    "df_agp_ms['qt_vacinados_acum'] = df_agp_ms.groupby('estabelecimento_municipio_nome')['qt_vacinados'].transform(pd.Series.cumsum)\n",
    "\n",
    "# BASE COM COLUNA ACUMULADA RJ\n",
    "df_agp_rj = df_sipni_rj.groupby(['estabelecimento_municipio_codigo','estabelecimento_municipio_nome','sem_epidem_ano'])['qt_vacinados'].sum()\n",
    "df_agp_rj = df_agp_rj.reset_index()\n",
    "df_agp_rj['qt_vacinados_acum'] = df_agp_rj.groupby('estabelecimento_municipio_nome')['qt_vacinados'].transform(pd.Series.cumsum)\n",
    "\n",
    "# BASE COM COLUNA ACUMULADA PA\n",
    "df_agp_pa = df_sipni_pa.groupby(['estabelecimento_municipio_codigo','estabelecimento_municipio_nome','sem_epidem_ano'])['qt_vacinados'].sum()\n",
    "df_agp_pa = df_agp_pa.reset_index()\n",
    "df_agp_pa['qt_vacinados_acum'] = df_agp_pa.groupby('estabelecimento_municipio_nome')['qt_vacinados'].transform(pd.Series.cumsum)\n",
    "\n",
    "# BASE COM COLUNA ACUMULADA AP\n",
    "df_agp_ap = df_sipni_ap.groupby(['estabelecimento_municipio_codigo','estabelecimento_municipio_nome','sem_epidem_ano'])['qt_vacinados'].sum()\n",
    "df_agp_ap = df_agp_ap.reset_index()\n",
    "df_agp_ap['qt_vacinados_acum'] = df_agp_ap.groupby('estabelecimento_municipio_nome')['qt_vacinados'].transform(pd.Series.cumsum)\n",
    "\n",
    "# BASE COM COLUNA ACUMULADA RR\n",
    "df_agp_rr = df_sipni_rr.groupby(['estabelecimento_municipio_codigo','estabelecimento_municipio_nome','sem_epidem_ano'])['qt_vacinados'].sum()\n",
    "df_agp_rr = df_agp_rr.reset_index()\n",
    "df_agp_rr['qt_vacinados_acum'] = df_agp_rr.groupby('estabelecimento_municipio_nome')['qt_vacinados'].transform(pd.Series.cumsum)\n",
    "\n",
    "df_agp_sp.head()"
   ]
  },
  {
   "cell_type": "markdown",
   "metadata": {},
   "source": [
    "**ANÁLISE DESCRITIVA**"
   ]
  },
  {
   "cell_type": "code",
   "execution_count": 29,
   "metadata": {},
   "outputs": [
    {
     "data": {
      "text/plain": [
       "<AxesSubplot:>"
      ]
     },
     "execution_count": 29,
     "metadata": {},
     "output_type": "execute_result"
    },
    {
     "data": {
      "image/png": "[encoded data removed]",
      "text/plain": [
       "<Figure size 432x288 with 1 Axes>"
      ]
     },
     "metadata": {
      "needs_background": "light"
     },
     "output_type": "display_data"
    }
   ],
   "source": [
    "#contando os nulos do sipni\n",
    "(df_sipni_total.isnull().sum()/df_sipni_total.shape[0]*100).plot(kind='barh')"
   ]
  },
  {
   "cell_type": "code",
   "execution_count": 50,
   "metadata": {},
   "outputs": [
    {
     "data": {
      "text/html": [
       "<div>\n",
       "<style scoped>\n",
       "    .dataframe tbody tr th:only-of-type {\n",
       "        vertical-align: middle;\n",
       "    }\n",
       "\n",
       "    .dataframe tbody tr th {\n",
       "        vertical-align: top;\n",
       "    }\n",
       "\n",
       "    .dataframe thead th {\n",
       "        text-align: right;\n",
       "    }\n",
       "</style>\n",
       "<table border=\"1\" class=\"dataframe\">\n",
       "  <thead>\n",
       "    <tr style=\"text-align: right;\">\n",
       "      <th></th>\n",
       "      <th>city_ibge_code</th>\n",
       "      <th>estabelecimento_municipio_codigo</th>\n",
       "      <th>NOME</th>\n",
       "      <th>UF</th>\n",
       "      <th>N</th>\n",
       "      <th>NE</th>\n",
       "      <th>CO</th>\n",
       "      <th>SE</th>\n",
       "      <th>S</th>\n",
       "      <th>RM</th>\n",
       "      <th>...</th>\n",
       "      <th>VOTOS_54</th>\n",
       "      <th>VOTOS_TOTAL</th>\n",
       "      <th>VOTOS_13_2T</th>\n",
       "      <th>VOTOS_17_2T</th>\n",
       "      <th>VOTOS_TOTAL_2T</th>\n",
       "      <th>MORTES_MILHAO</th>\n",
       "      <th>LN_MORTES_MILHAO</th>\n",
       "      <th>CAPITAL</th>\n",
       "      <th>REGIAO_METROPOLITANA</th>\n",
       "      <th>CLASSIFICAÇÃO</th>\n",
       "    </tr>\n",
       "  </thead>\n",
       "  <tbody>\n",
       "    <tr>\n",
       "      <th>0</th>\n",
       "      <td>1100015</td>\n",
       "      <td>110001</td>\n",
       "      <td>Alta Floresta D'Oeste</td>\n",
       "      <td>RO</td>\n",
       "      <td>1</td>\n",
       "      <td>0</td>\n",
       "      <td>0</td>\n",
       "      <td>0</td>\n",
       "      <td>0</td>\n",
       "      <td>0</td>\n",
       "      <td>...</td>\n",
       "      <td>2</td>\n",
       "      <td>12691</td>\n",
       "      <td>3763</td>\n",
       "      <td>8524</td>\n",
       "      <td>12287</td>\n",
       "      <td>2860</td>\n",
       "      <td>7.958545</td>\n",
       "      <td>0</td>\n",
       "      <td>-</td>\n",
       "      <td>Interior</td>\n",
       "    </tr>\n",
       "    <tr>\n",
       "      <th>1</th>\n",
       "      <td>1100023</td>\n",
       "      <td>110002</td>\n",
       "      <td>Ariquemes</td>\n",
       "      <td>RO</td>\n",
       "      <td>1</td>\n",
       "      <td>0</td>\n",
       "      <td>0</td>\n",
       "      <td>0</td>\n",
       "      <td>0</td>\n",
       "      <td>0</td>\n",
       "      <td>...</td>\n",
       "      <td>5</td>\n",
       "      <td>48048</td>\n",
       "      <td>8862</td>\n",
       "      <td>37325</td>\n",
       "      <td>46187</td>\n",
       "      <td>4227</td>\n",
       "      <td>8.349348</td>\n",
       "      <td>0</td>\n",
       "      <td>-</td>\n",
       "      <td>Interior</td>\n",
       "    </tr>\n",
       "    <tr>\n",
       "      <th>2</th>\n",
       "      <td>1100031</td>\n",
       "      <td>110003</td>\n",
       "      <td>Cabixi</td>\n",
       "      <td>RO</td>\n",
       "      <td>1</td>\n",
       "      <td>0</td>\n",
       "      <td>0</td>\n",
       "      <td>0</td>\n",
       "      <td>0</td>\n",
       "      <td>0</td>\n",
       "      <td>...</td>\n",
       "      <td>0</td>\n",
       "      <td>3406</td>\n",
       "      <td>1110</td>\n",
       "      <td>2142</td>\n",
       "      <td>3252</td>\n",
       "      <td>3855</td>\n",
       "      <td>8.257139</td>\n",
       "      <td>0</td>\n",
       "      <td>-</td>\n",
       "      <td>Interior</td>\n",
       "    </tr>\n",
       "    <tr>\n",
       "      <th>3</th>\n",
       "      <td>1100049</td>\n",
       "      <td>110004</td>\n",
       "      <td>Cacoal</td>\n",
       "      <td>RO</td>\n",
       "      <td>1</td>\n",
       "      <td>0</td>\n",
       "      <td>0</td>\n",
       "      <td>0</td>\n",
       "      <td>0</td>\n",
       "      <td>0</td>\n",
       "      <td>...</td>\n",
       "      <td>9</td>\n",
       "      <td>47345</td>\n",
       "      <td>10091</td>\n",
       "      <td>35962</td>\n",
       "      <td>46053</td>\n",
       "      <td>3248</td>\n",
       "      <td>8.085865</td>\n",
       "      <td>0</td>\n",
       "      <td>-</td>\n",
       "      <td>Interior</td>\n",
       "    </tr>\n",
       "    <tr>\n",
       "      <th>4</th>\n",
       "      <td>1100056</td>\n",
       "      <td>110005</td>\n",
       "      <td>Cerejeiras</td>\n",
       "      <td>RO</td>\n",
       "      <td>1</td>\n",
       "      <td>0</td>\n",
       "      <td>0</td>\n",
       "      <td>0</td>\n",
       "      <td>0</td>\n",
       "      <td>0</td>\n",
       "      <td>...</td>\n",
       "      <td>2</td>\n",
       "      <td>9658</td>\n",
       "      <td>1745</td>\n",
       "      <td>7656</td>\n",
       "      <td>9401</td>\n",
       "      <td>3703</td>\n",
       "      <td>8.216842</td>\n",
       "      <td>0</td>\n",
       "      <td>-</td>\n",
       "      <td>Interior</td>\n",
       "    </tr>\n",
       "  </tbody>\n",
       "</table>\n",
       "<p>5 rows × 49 columns</p>\n",
       "</div>"
      ],
      "text/plain": [
       "   city_ibge_code  estabelecimento_municipio_codigo                   NOME  \\\n",
       "0         1100015                            110001  Alta Floresta D'Oeste   \n",
       "1         1100023                            110002              Ariquemes   \n",
       "2         1100031                            110003                 Cabixi   \n",
       "3         1100049                            110004                 Cacoal   \n",
       "4         1100056                            110005             Cerejeiras   \n",
       "\n",
       "   UF  N  NE  CO  SE  S  RM  ...  VOTOS_54  VOTOS_TOTAL  VOTOS_13_2T  \\\n",
       "0  RO  1   0   0   0  0   0  ...         2        12691         3763   \n",
       "1  RO  1   0   0   0  0   0  ...         5        48048         8862   \n",
       "2  RO  1   0   0   0  0   0  ...         0         3406         1110   \n",
       "3  RO  1   0   0   0  0   0  ...         9        47345        10091   \n",
       "4  RO  1   0   0   0  0   0  ...         2         9658         1745   \n",
       "\n",
       "   VOTOS_17_2T  VOTOS_TOTAL_2T  MORTES_MILHAO  LN_MORTES_MILHAO  CAPITAL  \\\n",
       "0         8524           12287           2860          7.958545        0   \n",
       "1        37325           46187           4227          8.349348        0   \n",
       "2         2142            3252           3855          8.257139        0   \n",
       "3        35962           46053           3248          8.085865        0   \n",
       "4         7656            9401           3703          8.216842        0   \n",
       "\n",
       "   REGIAO_METROPOLITANA  CLASSIFICAÇÃO  \n",
       "0                     -       Interior  \n",
       "1                     -       Interior  \n",
       "2                     -       Interior  \n",
       "3                     -       Interior  \n",
       "4                     -       Interior  \n",
       "\n",
       "[5 rows x 49 columns]"
      ]
     },
     "execution_count": 50,
     "metadata": {},
     "output_type": "execute_result"
    }
   ],
   "source": [
    "#lendo a base de dados sociodemográficos\n",
    "\n",
    "base_dem = pd.read_excel('C:/Users/Yasmin/OneDrive/Documentos/TCC/Dados 3.1A.xlsx')\n",
    "base_dem = base_dem.rename(columns={'COD6': 'estabelecimento_municipio_codigo', 'COD7':'city_ibge_code'})\n",
    "base_dem.head()"
   ]
  },
  {
   "cell_type": "code",
   "execution_count": 31,
   "metadata": {},
   "outputs": [
    {
     "data": {
      "text/plain": [
       "city_ibge_code                       0.000000\n",
       "estabelecimento_municipio_codigo     0.000000\n",
       "NOME                                 0.000000\n",
       "UF                                   0.000000\n",
       "N                                    0.000000\n",
       "NE                                   0.000000\n",
       "CO                                   0.000000\n",
       "SE                                   0.000000\n",
       "S                                    0.000000\n",
       "RM                                   0.000000\n",
       "CASOS                                0.000000\n",
       "MORTES                               0.000000\n",
       "PIB                                  0.000000\n",
       "PIB_P_CAP                            0.000000\n",
       "GINI                                 0.089767\n",
       "POP                                  0.000000\n",
       "AREA                                 0.000000\n",
       "DENS_DEM                             0.000000\n",
       "PERC_URB                             0.143627\n",
       "PERC_MASC                            0.000000\n",
       "PERC_BRANCOS                         0.143627\n",
       "PERC60MAIS                           0.359066\n",
       "MEDICOS_100MIL                       0.000000\n",
       "LN_MEDICOS_100MIL                    3.877917\n",
       "LEITOS_100MIL                        0.000000\n",
       "LN_LEITOS_100MIL                    36.983842\n",
       "PERC_POP_EDUC_SUP                    0.143627\n",
       "VOTOS_12                             0.000000\n",
       "VOTOS_13                             0.000000\n",
       "VOTOS_15                             0.000000\n",
       "VOTOS_16                             0.000000\n",
       "VOTOS_17                             0.000000\n",
       "VOTOS_18                             0.000000\n",
       "VOTOS_19                             0.000000\n",
       "VOTOS_27                             0.000000\n",
       "VOTOS_30                             0.000000\n",
       "VOTOS_45                             0.000000\n",
       "VOTOS_50                             0.000000\n",
       "VOTOS_51                             0.000000\n",
       "VOTOS_54                             0.000000\n",
       "VOTOS_TOTAL                          0.000000\n",
       "VOTOS_13_2T                          0.000000\n",
       "VOTOS_17_2T                          0.000000\n",
       "VOTOS_TOTAL_2T                       0.000000\n",
       "MORTES_MILHAO                        0.000000\n",
       "LN_MORTES_MILHAO                     0.843806\n",
       "CAPITAL                              0.000000\n",
       "REGIAO_METROPOLITANA                 0.000000\n",
       "CLASSIFICAÇÃO                        0.000000\n",
       "dtype: float64"
      ]
     },
     "execution_count": 31,
     "metadata": {},
     "output_type": "execute_result"
    }
   ],
   "source": [
    "#verificando o percentual de dados nulos na base sociodemográfica\n",
    "\n",
    "((base_dem.isnull().sum()/base_dem.shape[0])*100)"
   ]
  },
  {
   "cell_type": "code",
   "execution_count": 32,
   "metadata": {},
   "outputs": [
    {
     "data": {
      "text/plain": [
       "Text(0.5, 1.0, 'Top 10 dos Estados com as maiores populações')"
      ]
     },
     "execution_count": 32,
     "metadata": {},
     "output_type": "execute_result"
    },
    {
     "data": {
      "image/png": "[encoded data removed]",
      "text/plain": [
       "<Figure size 432x288 with 1 Axes>"
      ]
     },
     "metadata": {
      "needs_background": "light"
     },
     "output_type": "display_data"
    }
   ],
   "source": [
    "top10_uf = base_dem.groupby('UF')['POP'].sum().nlargest(10)\n",
    "top10_uf = top10_uf.reset_index()\n",
    "plt.bar(top10_uf['UF'], height=top10_uf['POP'])\n",
    "\n",
    "plt.ylabel('População')\n",
    "plt.xlabel('Unidades Federativas')\n",
    "plt.title('Top 10 dos Estados com as maiores populações')"
   ]
  },
  {
   "cell_type": "code",
   "execution_count": 51,
   "metadata": {},
   "outputs": [],
   "source": [
    "#unindo algumas informações da base SIPNI com a sociodemográfica através da coluna de código do município\n",
    "\n",
    "df_agp_rr = pd.merge(df_agp_rr,base_dem[['estabelecimento_municipio_codigo','POP','city_ibge_code']], how='left', on='estabelecimento_municipio_codigo')\n",
    "df_agp_sp = pd.merge(df_agp_sp,base_dem[['estabelecimento_municipio_codigo','POP','city_ibge_code']], how='left', on='estabelecimento_municipio_codigo')\n",
    "df_agp_rj = pd.merge(df_agp_rj,base_dem[['estabelecimento_municipio_codigo','POP','city_ibge_code']], how='left', on='estabelecimento_municipio_codigo')\n",
    "df_agp_sc = pd.merge(df_agp_sc,base_dem[['estabelecimento_municipio_codigo','POP','city_ibge_code']], how='left', on='estabelecimento_municipio_codigo')\n",
    "df_agp_ms = pd.merge(df_agp_ms,base_dem[['estabelecimento_municipio_codigo','POP','city_ibge_code']], how='left', on='estabelecimento_municipio_codigo')\n",
    "df_agp_ap = pd.merge(df_agp_ap,base_dem[['estabelecimento_municipio_codigo','POP','city_ibge_code']], how='left', on='estabelecimento_municipio_codigo')\n",
    "df_agp_pa = pd.merge(df_agp_pa,base_dem[['estabelecimento_municipio_codigo','POP','city_ibge_code']], how='left', on='estabelecimento_municipio_codigo')"
   ]
  },
  {
   "cell_type": "code",
   "execution_count": 52,
   "metadata": {},
   "outputs": [
    {
     "data": {
      "text/html": [
       "<div>\n",
       "<style scoped>\n",
       "    .dataframe tbody tr th:only-of-type {\n",
       "        vertical-align: middle;\n",
       "    }\n",
       "\n",
       "    .dataframe tbody tr th {\n",
       "        vertical-align: top;\n",
       "    }\n",
       "\n",
       "    .dataframe thead th {\n",
       "        text-align: right;\n",
       "    }\n",
       "</style>\n",
       "<table border=\"1\" class=\"dataframe\">\n",
       "  <thead>\n",
       "    <tr style=\"text-align: right;\">\n",
       "      <th></th>\n",
       "      <th>estabelecimento_municipio_codigo</th>\n",
       "      <th>estabelecimento_municipio_nome</th>\n",
       "      <th>sem_epidem_ano</th>\n",
       "      <th>qt_vacinados</th>\n",
       "      <th>qt_vacinados_acum</th>\n",
       "      <th>POP</th>\n",
       "      <th>city_ibge_code</th>\n",
       "    </tr>\n",
       "  </thead>\n",
       "  <tbody>\n",
       "    <tr>\n",
       "      <th>0</th>\n",
       "      <td>420005</td>\n",
       "      <td>ABDON BATISTA</td>\n",
       "      <td>202107</td>\n",
       "      <td>22</td>\n",
       "      <td>22</td>\n",
       "      <td>2548</td>\n",
       "      <td>4200051</td>\n",
       "    </tr>\n",
       "    <tr>\n",
       "      <th>1</th>\n",
       "      <td>420005</td>\n",
       "      <td>ABDON BATISTA</td>\n",
       "      <td>202108</td>\n",
       "      <td>10</td>\n",
       "      <td>32</td>\n",
       "      <td>2548</td>\n",
       "      <td>4200051</td>\n",
       "    </tr>\n",
       "    <tr>\n",
       "      <th>2</th>\n",
       "      <td>420005</td>\n",
       "      <td>ABDON BATISTA</td>\n",
       "      <td>202109</td>\n",
       "      <td>10</td>\n",
       "      <td>42</td>\n",
       "      <td>2548</td>\n",
       "      <td>4200051</td>\n",
       "    </tr>\n",
       "    <tr>\n",
       "      <th>3</th>\n",
       "      <td>420005</td>\n",
       "      <td>ABDON BATISTA</td>\n",
       "      <td>202110</td>\n",
       "      <td>8</td>\n",
       "      <td>50</td>\n",
       "      <td>2548</td>\n",
       "      <td>4200051</td>\n",
       "    </tr>\n",
       "    <tr>\n",
       "      <th>4</th>\n",
       "      <td>420005</td>\n",
       "      <td>ABDON BATISTA</td>\n",
       "      <td>202111</td>\n",
       "      <td>1</td>\n",
       "      <td>51</td>\n",
       "      <td>2548</td>\n",
       "      <td>4200051</td>\n",
       "    </tr>\n",
       "  </tbody>\n",
       "</table>\n",
       "</div>"
      ],
      "text/plain": [
       "   estabelecimento_municipio_codigo estabelecimento_municipio_nome  \\\n",
       "0                            420005                  ABDON BATISTA   \n",
       "1                            420005                  ABDON BATISTA   \n",
       "2                            420005                  ABDON BATISTA   \n",
       "3                            420005                  ABDON BATISTA   \n",
       "4                            420005                  ABDON BATISTA   \n",
       "\n",
       "   sem_epidem_ano qt_vacinados qt_vacinados_acum   POP  city_ibge_code  \n",
       "0          202107           22                22  2548         4200051  \n",
       "1          202108           10                32  2548         4200051  \n",
       "2          202109           10                42  2548         4200051  \n",
       "3          202110            8                50  2548         4200051  \n",
       "4          202111            1                51  2548         4200051  "
      ]
     },
     "execution_count": 52,
     "metadata": {},
     "output_type": "execute_result"
    }
   ],
   "source": [
    "df_agp_sc.head()"
   ]
  },
  {
   "cell_type": "code",
   "execution_count": 53,
   "metadata": {},
   "outputs": [],
   "source": [
    "#criação da coluna de cobertura vacinal\n",
    "\n",
    "df_agp_rr['cobertura_vacinal'] = df_agp_rr['qt_vacinados_acum']/df_agp_rr['POP']*100\n",
    "df_agp_rr['cobertura_vacinal'] = pd.Series([round(val, 2) for val in df_agp_rr['cobertura_vacinal']], index = df_agp_rr.index)\n",
    "\n",
    "df_agp_rj['cobertura_vacinal'] = df_agp_rj['qt_vacinados_acum']/df_agp_rj['POP']*100\n",
    "df_agp_rj['cobertura_vacinal'] = pd.Series([round(val, 2) for val in df_agp_rj['cobertura_vacinal']], index = df_agp_rj.index)\n",
    "\n",
    "df_agp_sp['cobertura_vacinal'] = df_agp_sp['qt_vacinados_acum']/df_agp_sp['POP']*100\n",
    "df_agp_sp['cobertura_vacinal'] = pd.Series([round(val, 2) for val in df_agp_sp['cobertura_vacinal']], index = df_agp_sp.index)\n",
    "\n",
    "df_agp_ap['cobertura_vacinal'] = df_agp_ap['qt_vacinados_acum']/df_agp_ap['POP']*100\n",
    "df_agp_ap['cobertura_vacinal'] = pd.Series([round(val, 2) for val in df_agp_ap['cobertura_vacinal']], index = df_agp_ap.index)\n",
    "\n",
    "df_agp_pa['cobertura_vacinal'] = df_agp_pa['qt_vacinados_acum']/df_agp_pa['POP']*100\n",
    "df_agp_pa['cobertura_vacinal'] = pd.Series([round(val, 2) for val in df_agp_pa['cobertura_vacinal']], index = df_agp_pa.index)\n",
    "\n",
    "df_agp_ms['cobertura_vacinal'] = df_agp_ms['qt_vacinados_acum']/df_agp_ms['POP']*100\n",
    "df_agp_ms['cobertura_vacinal'] = pd.Series([round(val, 2) for val in df_agp_ms['cobertura_vacinal']], index = df_agp_ms.index)\n",
    "\n",
    "df_agp_sc['cobertura_vacinal'] = df_agp_sc['qt_vacinados_acum']/df_agp_sc['POP']*100\n",
    "df_agp_sc['cobertura_vacinal'] = pd.Series([round(val, 2) for val in df_agp_sc['cobertura_vacinal']], index = df_agp_sc.index)"
   ]
  },
  {
   "cell_type": "code",
   "execution_count": 57,
   "metadata": {},
   "outputs": [
    {
     "data": {
      "text/html": [
       "<div>\n",
       "<style scoped>\n",
       "    .dataframe tbody tr th:only-of-type {\n",
       "        vertical-align: middle;\n",
       "    }\n",
       "\n",
       "    .dataframe tbody tr th {\n",
       "        vertical-align: top;\n",
       "    }\n",
       "\n",
       "    .dataframe thead th {\n",
       "        text-align: right;\n",
       "    }\n",
       "</style>\n",
       "<table border=\"1\" class=\"dataframe\">\n",
       "  <thead>\n",
       "    <tr style=\"text-align: right;\">\n",
       "      <th></th>\n",
       "      <th>city_ibge_code</th>\n",
       "      <th>sem_epidem_ano</th>\n",
       "      <th>new_confirmed</th>\n",
       "      <th>new_deaths</th>\n",
       "    </tr>\n",
       "  </thead>\n",
       "  <tbody>\n",
       "    <tr>\n",
       "      <th>0</th>\n",
       "      <td>11</td>\n",
       "      <td>202012</td>\n",
       "      <td>3</td>\n",
       "      <td>0</td>\n",
       "    </tr>\n",
       "    <tr>\n",
       "      <th>1</th>\n",
       "      <td>11</td>\n",
       "      <td>202013</td>\n",
       "      <td>3</td>\n",
       "      <td>0</td>\n",
       "    </tr>\n",
       "    <tr>\n",
       "      <th>2</th>\n",
       "      <td>11</td>\n",
       "      <td>202014</td>\n",
       "      <td>5</td>\n",
       "      <td>1</td>\n",
       "    </tr>\n",
       "    <tr>\n",
       "      <th>3</th>\n",
       "      <td>11</td>\n",
       "      <td>202015</td>\n",
       "      <td>23</td>\n",
       "      <td>1</td>\n",
       "    </tr>\n",
       "    <tr>\n",
       "      <th>4</th>\n",
       "      <td>11</td>\n",
       "      <td>202016</td>\n",
       "      <td>94</td>\n",
       "      <td>2</td>\n",
       "    </tr>\n",
       "    <tr>\n",
       "      <th>...</th>\n",
       "      <td>...</td>\n",
       "      <td>...</td>\n",
       "      <td>...</td>\n",
       "      <td>...</td>\n",
       "    </tr>\n",
       "    <tr>\n",
       "      <th>438485</th>\n",
       "      <td>5300108</td>\n",
       "      <td>202140</td>\n",
       "      <td>7861</td>\n",
       "      <td>91</td>\n",
       "    </tr>\n",
       "    <tr>\n",
       "      <th>438486</th>\n",
       "      <td>5300108</td>\n",
       "      <td>202141</td>\n",
       "      <td>4002</td>\n",
       "      <td>93</td>\n",
       "    </tr>\n",
       "    <tr>\n",
       "      <th>438487</th>\n",
       "      <td>5300108</td>\n",
       "      <td>202142</td>\n",
       "      <td>2733</td>\n",
       "      <td>82</td>\n",
       "    </tr>\n",
       "    <tr>\n",
       "      <th>438488</th>\n",
       "      <td>5300108</td>\n",
       "      <td>202143</td>\n",
       "      <td>1449</td>\n",
       "      <td>69</td>\n",
       "    </tr>\n",
       "    <tr>\n",
       "      <th>438489</th>\n",
       "      <td>5300108</td>\n",
       "      <td>202144</td>\n",
       "      <td>0</td>\n",
       "      <td>0</td>\n",
       "    </tr>\n",
       "  </tbody>\n",
       "</table>\n",
       "<p>438490 rows × 4 columns</p>\n",
       "</div>"
      ],
      "text/plain": [
       "        city_ibge_code  sem_epidem_ano  new_confirmed  new_deaths\n",
       "0                   11          202012              3           0\n",
       "1                   11          202013              3           0\n",
       "2                   11          202014              5           1\n",
       "3                   11          202015             23           1\n",
       "4                   11          202016             94           2\n",
       "...                ...             ...            ...         ...\n",
       "438485         5300108          202140           7861          91\n",
       "438486         5300108          202141           4002          93\n",
       "438487         5300108          202142           2733          82\n",
       "438488         5300108          202143           1449          69\n",
       "438489         5300108          202144              0           0\n",
       "\n",
       "[438490 rows x 4 columns]"
      ]
     },
     "execution_count": 57,
     "metadata": {},
     "output_type": "execute_result"
    }
   ],
   "source": [
    "#lendo a base de casos e óbitos (brasil.IO)\n",
    "base_casos = pd.read_csv('C:/Users/Yasmin/OneDrive/Documentos/TCC/caso_full.csv')\n",
    "base_casos = base_casos.rename(columns={'epidemiological_week':'sem_epidem_ano'})\n",
    "base_casos = base_casos.dropna(subset=['city_ibge_code'])\n",
    "base_casos = base_casos.astype({'city_ibge_code':int})\n",
    "\n",
    "base_casos_agp = base_casos.groupby(['city_ibge_code','sem_epidem_ano']).agg({'new_confirmed':'sum','new_deaths':'sum'})\n",
    "base_casos_agp = base_casos_agp.reset_index()\n",
    "base_casos_agp"
   ]
  },
  {
   "cell_type": "code",
   "execution_count": 37,
   "metadata": {},
   "outputs": [
    {
     "data": {
      "text/plain": [
       "(3056176, 18)"
      ]
     },
     "execution_count": 37,
     "metadata": {},
     "output_type": "execute_result"
    }
   ],
   "source": [
    "base_casos.shape"
   ]
  },
  {
   "cell_type": "code",
   "execution_count": 52,
   "metadata": {},
   "outputs": [
    {
     "data": {
      "text/plain": [
       "<AxesSubplot:>"
      ]
     },
     "execution_count": 52,
     "metadata": {},
     "output_type": "execute_result"
    },
    {
     "data": {
      "image/png": "[encoded data removed]",
      "text/plain": [
       "<Figure size 432x288 with 1 Axes>"
      ]
     },
     "metadata": {
      "needs_background": "light"
     },
     "output_type": "display_data"
    }
   ],
   "source": [
    "#obtendo o número de nulos da base do brasil.IO\n",
    "((base_casos.isnull().sum()/base_casos.shape[0])*100).plot(kind='barh')"
   ]
  },
  {
   "cell_type": "code",
   "execution_count": 53,
   "metadata": {},
   "outputs": [
    {
     "data": {
      "text/plain": [
       "620"
      ]
     },
     "execution_count": 53,
     "metadata": {},
     "output_type": "execute_result"
    }
   ],
   "source": [
    "len(base_casos['date'].unique())"
   ]
  },
  {
   "cell_type": "code",
   "execution_count": 54,
   "metadata": {},
   "outputs": [
    {
     "data": {
      "text/plain": [
       "<AxesSubplot:xlabel='city_ibge_code'>"
      ]
     },
     "execution_count": 54,
     "metadata": {},
     "output_type": "execute_result"
    },
    {
     "data": {
      "image/png": "[encoded data removed]",
      "text/plain": [
       "<Figure size 432x288 with 1 Axes>"
      ]
     },
     "metadata": {
      "needs_background": "light"
     },
     "output_type": "display_data"
    }
   ],
   "source": [
    "#Detectando outliers com boxplot do Brasil.IO\n",
    "sns.boxplot(x=base_casos['city_ibge_code'])"
   ]
  },
  {
   "cell_type": "code",
   "execution_count": 58,
   "metadata": {},
   "outputs": [
    {
     "data": {
      "image/png": "[encoded data removed]",
      "text/plain": [
       "<Figure size 1152x576 with 1 Axes>"
      ]
     },
     "metadata": {
      "needs_background": "light"
     },
     "output_type": "display_data"
    }
   ],
   "source": [
    "#scatter plot dos novos casos confirmados pela semana epidemiológica\n",
    "\n",
    "fig, ax = plt.subplots(figsize=(16,8))\n",
    "ax.scatter(base_casos['epidemiological_week'],base_casos['new_confirmed'])\n",
    "ax.set_xlabel('Semana Epidemiologica')\n",
    "ax.set_ylabel('Casos confirmados')\n",
    "plt.show()"
   ]
  },
  {
   "cell_type": "code",
   "execution_count": 59,
   "metadata": {},
   "outputs": [
    {
     "data": {
      "text/html": [
       "<div>\n",
       "<style scoped>\n",
       "    .dataframe tbody tr th:only-of-type {\n",
       "        vertical-align: middle;\n",
       "    }\n",
       "\n",
       "    .dataframe tbody tr th {\n",
       "        vertical-align: top;\n",
       "    }\n",
       "\n",
       "    .dataframe thead th {\n",
       "        text-align: right;\n",
       "    }\n",
       "</style>\n",
       "<table border=\"1\" class=\"dataframe\">\n",
       "  <thead>\n",
       "    <tr style=\"text-align: right;\">\n",
       "      <th></th>\n",
       "      <th>city</th>\n",
       "      <th>city_ibge_code</th>\n",
       "      <th>date</th>\n",
       "      <th>epidemiological_week</th>\n",
       "      <th>estimated_population</th>\n",
       "      <th>estimated_population_2019</th>\n",
       "      <th>is_last</th>\n",
       "      <th>is_repeated</th>\n",
       "      <th>last_available_confirmed</th>\n",
       "      <th>last_available_confirmed_per_100k_inhabitants</th>\n",
       "      <th>last_available_date</th>\n",
       "      <th>last_available_death_rate</th>\n",
       "      <th>last_available_deaths</th>\n",
       "      <th>order_for_place</th>\n",
       "      <th>place_type</th>\n",
       "      <th>state</th>\n",
       "      <th>new_confirmed</th>\n",
       "      <th>new_deaths</th>\n",
       "      <th>sequential_week</th>\n",
       "    </tr>\n",
       "  </thead>\n",
       "  <tbody>\n",
       "    <tr>\n",
       "      <th>0</th>\n",
       "      <td>Rio Branco</td>\n",
       "      <td>1200401</td>\n",
       "      <td>2020-03-17</td>\n",
       "      <td>202012</td>\n",
       "      <td>413418.0</td>\n",
       "      <td>407319.0</td>\n",
       "      <td>False</td>\n",
       "      <td>False</td>\n",
       "      <td>3</td>\n",
       "      <td>0.72566</td>\n",
       "      <td>2020-03-17</td>\n",
       "      <td>0.0</td>\n",
       "      <td>0</td>\n",
       "      <td>1</td>\n",
       "      <td>city</td>\n",
       "      <td>AC</td>\n",
       "      <td>3</td>\n",
       "      <td>0</td>\n",
       "      <td>4</td>\n",
       "    </tr>\n",
       "    <tr>\n",
       "      <th>1</th>\n",
       "      <td>NaN</td>\n",
       "      <td>12</td>\n",
       "      <td>2020-03-17</td>\n",
       "      <td>202012</td>\n",
       "      <td>894470.0</td>\n",
       "      <td>881935.0</td>\n",
       "      <td>False</td>\n",
       "      <td>False</td>\n",
       "      <td>3</td>\n",
       "      <td>0.33539</td>\n",
       "      <td>2020-03-17</td>\n",
       "      <td>0.0</td>\n",
       "      <td>0</td>\n",
       "      <td>1</td>\n",
       "      <td>state</td>\n",
       "      <td>AC</td>\n",
       "      <td>3</td>\n",
       "      <td>0</td>\n",
       "      <td>4</td>\n",
       "    </tr>\n",
       "    <tr>\n",
       "      <th>2</th>\n",
       "      <td>Rio Branco</td>\n",
       "      <td>1200401</td>\n",
       "      <td>2020-03-18</td>\n",
       "      <td>202012</td>\n",
       "      <td>413418.0</td>\n",
       "      <td>407319.0</td>\n",
       "      <td>False</td>\n",
       "      <td>False</td>\n",
       "      <td>3</td>\n",
       "      <td>0.72566</td>\n",
       "      <td>2020-03-18</td>\n",
       "      <td>0.0</td>\n",
       "      <td>0</td>\n",
       "      <td>2</td>\n",
       "      <td>city</td>\n",
       "      <td>AC</td>\n",
       "      <td>0</td>\n",
       "      <td>0</td>\n",
       "      <td>4</td>\n",
       "    </tr>\n",
       "    <tr>\n",
       "      <th>3</th>\n",
       "      <td>NaN</td>\n",
       "      <td>12</td>\n",
       "      <td>2020-03-18</td>\n",
       "      <td>202012</td>\n",
       "      <td>894470.0</td>\n",
       "      <td>881935.0</td>\n",
       "      <td>False</td>\n",
       "      <td>False</td>\n",
       "      <td>3</td>\n",
       "      <td>0.33539</td>\n",
       "      <td>2020-03-18</td>\n",
       "      <td>0.0</td>\n",
       "      <td>0</td>\n",
       "      <td>2</td>\n",
       "      <td>state</td>\n",
       "      <td>AC</td>\n",
       "      <td>0</td>\n",
       "      <td>0</td>\n",
       "      <td>4</td>\n",
       "    </tr>\n",
       "    <tr>\n",
       "      <th>4</th>\n",
       "      <td>Rio Branco</td>\n",
       "      <td>1200401</td>\n",
       "      <td>2020-03-19</td>\n",
       "      <td>202012</td>\n",
       "      <td>413418.0</td>\n",
       "      <td>407319.0</td>\n",
       "      <td>False</td>\n",
       "      <td>False</td>\n",
       "      <td>4</td>\n",
       "      <td>0.96754</td>\n",
       "      <td>2020-03-19</td>\n",
       "      <td>0.0</td>\n",
       "      <td>0</td>\n",
       "      <td>3</td>\n",
       "      <td>city</td>\n",
       "      <td>AC</td>\n",
       "      <td>1</td>\n",
       "      <td>0</td>\n",
       "      <td>4</td>\n",
       "    </tr>\n",
       "  </tbody>\n",
       "</table>\n",
       "</div>"
      ],
      "text/plain": [
       "         city  city_ibge_code        date  epidemiological_week  \\\n",
       "0  Rio Branco         1200401  2020-03-17                202012   \n",
       "1         NaN              12  2020-03-17                202012   \n",
       "2  Rio Branco         1200401  2020-03-18                202012   \n",
       "3         NaN              12  2020-03-18                202012   \n",
       "4  Rio Branco         1200401  2020-03-19                202012   \n",
       "\n",
       "   estimated_population  estimated_population_2019  is_last  is_repeated  \\\n",
       "0              413418.0                   407319.0    False        False   \n",
       "1              894470.0                   881935.0    False        False   \n",
       "2              413418.0                   407319.0    False        False   \n",
       "3              894470.0                   881935.0    False        False   \n",
       "4              413418.0                   407319.0    False        False   \n",
       "\n",
       "   last_available_confirmed  last_available_confirmed_per_100k_inhabitants  \\\n",
       "0                         3                                        0.72566   \n",
       "1                         3                                        0.33539   \n",
       "2                         3                                        0.72566   \n",
       "3                         3                                        0.33539   \n",
       "4                         4                                        0.96754   \n",
       "\n",
       "  last_available_date  last_available_death_rate  last_available_deaths  \\\n",
       "0          2020-03-17                        0.0                      0   \n",
       "1          2020-03-17                        0.0                      0   \n",
       "2          2020-03-18                        0.0                      0   \n",
       "3          2020-03-18                        0.0                      0   \n",
       "4          2020-03-19                        0.0                      0   \n",
       "\n",
       "   order_for_place place_type state  new_confirmed  new_deaths  \\\n",
       "0                1       city    AC              3           0   \n",
       "1                1      state    AC              3           0   \n",
       "2                2       city    AC              0           0   \n",
       "3                2      state    AC              0           0   \n",
       "4                3       city    AC              1           0   \n",
       "\n",
       "   sequential_week  \n",
       "0                4  \n",
       "1                4  \n",
       "2                4  \n",
       "3                4  \n",
       "4                4  "
      ]
     },
     "execution_count": 59,
     "metadata": {},
     "output_type": "execute_result"
    }
   ],
   "source": [
    "# criando um novo eixo x para o gráfico anterior\n",
    "\n",
    "l_week_unicos = base_casos['epidemiological_week'].sort_values(ascending=True).unique()\n",
    "\n",
    "def nova_coluna_week(lista):\n",
    "    dicio = {}\n",
    "    cont = 0\n",
    "    for i in lista:\n",
    "        cont = cont + 1 \n",
    "        dicio[i] = cont\n",
    "    return dicio\n",
    "    \n",
    "dicio_novo_count = nova_coluna_week(l_week_unicos)\n",
    "base_casos['sequential_week'] = base_casos['epidemiological_week'].apply(lambda epidemiological_week: dicio_novo_count[epidemiological_week])\n",
    "base_casos.head()"
   ]
  },
  {
   "cell_type": "code",
   "execution_count": 61,
   "metadata": {},
   "outputs": [
    {
     "data": {
      "image/png": "[encoded data removed]",
      "text/plain": [
       "<Figure size 1152x576 with 1 Axes>"
      ]
     },
     "metadata": {
      "needs_background": "light"
     },
     "output_type": "display_data"
    }
   ],
   "source": [
    "#scatter plot com o novo eixo x\n",
    "\n",
    "fig, ax = plt.subplots(figsize=(16,8))\n",
    "z = np.arange(89)\n",
    "width = 1.0\n",
    "ax.scatter(base_casos['sequential_week'],base_casos['new_confirmed'])\n",
    "ax.set_xticks(width+z)\n",
    "ax.set_xticklabels(l_week_unicos)\n",
    "ax.set_xlabel('Semana Epidemiologica')\n",
    "ax.set_ylabel('Novos casos confirmados')\n",
    "plt.xticks(rotation=90)\n",
    "plt.show()"
   ]
  },
  {
   "cell_type": "code",
   "execution_count": 59,
   "metadata": {},
   "outputs": [
    {
     "data": {
      "text/html": [
       "<div>\n",
       "<style scoped>\n",
       "    .dataframe tbody tr th:only-of-type {\n",
       "        vertical-align: middle;\n",
       "    }\n",
       "\n",
       "    .dataframe tbody tr th {\n",
       "        vertical-align: top;\n",
       "    }\n",
       "\n",
       "    .dataframe thead th {\n",
       "        text-align: right;\n",
       "    }\n",
       "</style>\n",
       "<table border=\"1\" class=\"dataframe\">\n",
       "  <thead>\n",
       "    <tr style=\"text-align: right;\">\n",
       "      <th></th>\n",
       "      <th>estabelecimento_municipio_codigo</th>\n",
       "      <th>estabelecimento_municipio_nome</th>\n",
       "      <th>sem_epidem_ano</th>\n",
       "      <th>qt_vacinados</th>\n",
       "      <th>qt_vacinados_acum</th>\n",
       "      <th>POP</th>\n",
       "      <th>city_ibge_code</th>\n",
       "      <th>cobertura_vacinal</th>\n",
       "    </tr>\n",
       "  </thead>\n",
       "  <tbody>\n",
       "    <tr>\n",
       "      <th>0</th>\n",
       "      <td>160005</td>\n",
       "      <td>SERRA DO NAVIO</td>\n",
       "      <td>202106</td>\n",
       "      <td>57</td>\n",
       "      <td>57</td>\n",
       "      <td>5488</td>\n",
       "      <td>1600055</td>\n",
       "      <td>1.04</td>\n",
       "    </tr>\n",
       "    <tr>\n",
       "      <th>1</th>\n",
       "      <td>160005</td>\n",
       "      <td>SERRA DO NAVIO</td>\n",
       "      <td>202107</td>\n",
       "      <td>14</td>\n",
       "      <td>71</td>\n",
       "      <td>5488</td>\n",
       "      <td>1600055</td>\n",
       "      <td>1.29</td>\n",
       "    </tr>\n",
       "    <tr>\n",
       "      <th>2</th>\n",
       "      <td>160005</td>\n",
       "      <td>SERRA DO NAVIO</td>\n",
       "      <td>202108</td>\n",
       "      <td>1</td>\n",
       "      <td>72</td>\n",
       "      <td>5488</td>\n",
       "      <td>1600055</td>\n",
       "      <td>1.31</td>\n",
       "    </tr>\n",
       "    <tr>\n",
       "      <th>3</th>\n",
       "      <td>160005</td>\n",
       "      <td>SERRA DO NAVIO</td>\n",
       "      <td>202109</td>\n",
       "      <td>5</td>\n",
       "      <td>77</td>\n",
       "      <td>5488</td>\n",
       "      <td>1600055</td>\n",
       "      <td>1.40</td>\n",
       "    </tr>\n",
       "    <tr>\n",
       "      <th>4</th>\n",
       "      <td>160005</td>\n",
       "      <td>SERRA DO NAVIO</td>\n",
       "      <td>202110</td>\n",
       "      <td>18</td>\n",
       "      <td>95</td>\n",
       "      <td>5488</td>\n",
       "      <td>1600055</td>\n",
       "      <td>1.73</td>\n",
       "    </tr>\n",
       "  </tbody>\n",
       "</table>\n",
       "</div>"
      ],
      "text/plain": [
       "   estabelecimento_municipio_codigo estabelecimento_municipio_nome  \\\n",
       "0                            160005                 SERRA DO NAVIO   \n",
       "1                            160005                 SERRA DO NAVIO   \n",
       "2                            160005                 SERRA DO NAVIO   \n",
       "3                            160005                 SERRA DO NAVIO   \n",
       "4                            160005                 SERRA DO NAVIO   \n",
       "\n",
       "   sem_epidem_ano qt_vacinados qt_vacinados_acum   POP  city_ibge_code  \\\n",
       "0          202106           57                57  5488         1600055   \n",
       "1          202107           14                71  5488         1600055   \n",
       "2          202108            1                72  5488         1600055   \n",
       "3          202109            5                77  5488         1600055   \n",
       "4          202110           18                95  5488         1600055   \n",
       "\n",
       "  cobertura_vacinal  \n",
       "0              1.04  \n",
       "1              1.29  \n",
       "2              1.31  \n",
       "3              1.40  \n",
       "4              1.73  "
      ]
     },
     "execution_count": 59,
     "metadata": {},
     "output_type": "execute_result"
    }
   ],
   "source": [
    "#concatenando todas as bases\n",
    "\n",
    "df_agp = pd.concat([df_agp_ap, df_agp_rj, df_agp_ms, df_agp_pa, df_agp_sp, df_agp_rr, df_agp_sc])\n",
    "#df_agp = df_agp.rename(columns={'sem_epidem_ano':'epidemiological_week'})\n",
    "df_agp.head()"
   ]
  },
  {
   "cell_type": "code",
   "execution_count": 60,
   "metadata": {},
   "outputs": [],
   "source": [
    "#unindo a base construída até aqui com a base do brasil.IO através das colunas de município e semana epidemiológica\n",
    "\n",
    "df_agp = pd.merge(df_agp,base_casos_agp[['city_ibge_code','sem_epidem_ano','new_confirmed','new_deaths']], how='left', on=['city_ibge_code','sem_epidem_ano'])\n",
    "df_agp_rj = pd.merge(df_agp_rj,base_casos_agp[['city_ibge_code','sem_epidem_ano','new_confirmed','new_deaths']], how='left', on=['city_ibge_code','sem_epidem_ano'])\n",
    "df_agp_sc = pd.merge(df_agp_sc,base_casos_agp[['city_ibge_code','sem_epidem_ano','new_confirmed','new_deaths']], how='left', on=['city_ibge_code','sem_epidem_ano'])\n",
    "df_agp_sp = pd.merge(df_agp_sp,base_casos_agp[['city_ibge_code','sem_epidem_ano','new_confirmed','new_deaths']], how='left', on=['city_ibge_code','sem_epidem_ano'])\n",
    "df_agp_ms = pd.merge(df_agp_ms,base_casos_agp[['city_ibge_code','sem_epidem_ano','new_confirmed','new_deaths']], how='left', on=['city_ibge_code','sem_epidem_ano'])\n",
    "df_agp_ap = pd.merge(df_agp_ap,base_casos_agp[['city_ibge_code','sem_epidem_ano','new_confirmed','new_deaths']], how='left', on=['city_ibge_code','sem_epidem_ano'])\n",
    "df_agp_pa = pd.merge(df_agp_pa,base_casos_agp[['city_ibge_code','sem_epidem_ano','new_confirmed','new_deaths']], how='left', on=['city_ibge_code','sem_epidem_ano'])\n",
    "df_agp_rr = pd.merge(df_agp_rr,base_casos_agp[['city_ibge_code','sem_epidem_ano','new_confirmed','new_deaths']], how='left', on=['city_ibge_code','sem_epidem_ano'])"
   ]
  },
  {
   "cell_type": "code",
   "execution_count": 61,
   "metadata": {},
   "outputs": [
    {
     "data": {
      "text/html": [
       "<div>\n",
       "<style scoped>\n",
       "    .dataframe tbody tr th:only-of-type {\n",
       "        vertical-align: middle;\n",
       "    }\n",
       "\n",
       "    .dataframe tbody tr th {\n",
       "        vertical-align: top;\n",
       "    }\n",
       "\n",
       "    .dataframe thead th {\n",
       "        text-align: right;\n",
       "    }\n",
       "</style>\n",
       "<table border=\"1\" class=\"dataframe\">\n",
       "  <thead>\n",
       "    <tr style=\"text-align: right;\">\n",
       "      <th></th>\n",
       "      <th>estabelecimento_municipio_codigo</th>\n",
       "      <th>estabelecimento_municipio_nome</th>\n",
       "      <th>sem_epidem_ano</th>\n",
       "      <th>qt_vacinados</th>\n",
       "      <th>qt_vacinados_acum</th>\n",
       "      <th>POP</th>\n",
       "      <th>city_ibge_code</th>\n",
       "      <th>cobertura_vacinal</th>\n",
       "      <th>new_confirmed</th>\n",
       "      <th>new_deaths</th>\n",
       "    </tr>\n",
       "  </thead>\n",
       "  <tbody>\n",
       "    <tr>\n",
       "      <th>0</th>\n",
       "      <td>140002</td>\n",
       "      <td>AMAJARI</td>\n",
       "      <td>202103</td>\n",
       "      <td>1</td>\n",
       "      <td>1</td>\n",
       "      <td>13185</td>\n",
       "      <td>1400027</td>\n",
       "      <td>0.01</td>\n",
       "      <td>9</td>\n",
       "      <td>0</td>\n",
       "    </tr>\n",
       "    <tr>\n",
       "      <th>1</th>\n",
       "      <td>140002</td>\n",
       "      <td>AMAJARI</td>\n",
       "      <td>202104</td>\n",
       "      <td>3</td>\n",
       "      <td>4</td>\n",
       "      <td>13185</td>\n",
       "      <td>1400027</td>\n",
       "      <td>0.03</td>\n",
       "      <td>16</td>\n",
       "      <td>0</td>\n",
       "    </tr>\n",
       "    <tr>\n",
       "      <th>2</th>\n",
       "      <td>140002</td>\n",
       "      <td>AMAJARI</td>\n",
       "      <td>202105</td>\n",
       "      <td>18</td>\n",
       "      <td>22</td>\n",
       "      <td>13185</td>\n",
       "      <td>1400027</td>\n",
       "      <td>0.17</td>\n",
       "      <td>21</td>\n",
       "      <td>0</td>\n",
       "    </tr>\n",
       "    <tr>\n",
       "      <th>3</th>\n",
       "      <td>140002</td>\n",
       "      <td>AMAJARI</td>\n",
       "      <td>202106</td>\n",
       "      <td>333</td>\n",
       "      <td>355</td>\n",
       "      <td>13185</td>\n",
       "      <td>1400027</td>\n",
       "      <td>2.69</td>\n",
       "      <td>34</td>\n",
       "      <td>0</td>\n",
       "    </tr>\n",
       "    <tr>\n",
       "      <th>4</th>\n",
       "      <td>140002</td>\n",
       "      <td>AMAJARI</td>\n",
       "      <td>202107</td>\n",
       "      <td>577</td>\n",
       "      <td>932</td>\n",
       "      <td>13185</td>\n",
       "      <td>1400027</td>\n",
       "      <td>7.07</td>\n",
       "      <td>23</td>\n",
       "      <td>0</td>\n",
       "    </tr>\n",
       "  </tbody>\n",
       "</table>\n",
       "</div>"
      ],
      "text/plain": [
       "   estabelecimento_municipio_codigo estabelecimento_municipio_nome  \\\n",
       "0                            140002                        AMAJARI   \n",
       "1                            140002                        AMAJARI   \n",
       "2                            140002                        AMAJARI   \n",
       "3                            140002                        AMAJARI   \n",
       "4                            140002                        AMAJARI   \n",
       "\n",
       "   sem_epidem_ano qt_vacinados qt_vacinados_acum    POP  city_ibge_code  \\\n",
       "0          202103            1                 1  13185         1400027   \n",
       "1          202104            3                 4  13185         1400027   \n",
       "2          202105           18                22  13185         1400027   \n",
       "3          202106          333               355  13185         1400027   \n",
       "4          202107          577               932  13185         1400027   \n",
       "\n",
       "  cobertura_vacinal  new_confirmed  new_deaths  \n",
       "0              0.01              9           0  \n",
       "1              0.03             16           0  \n",
       "2              0.17             21           0  \n",
       "3              2.69             34           0  \n",
       "4              7.07             23           0  "
      ]
     },
     "execution_count": 61,
     "metadata": {},
     "output_type": "execute_result"
    }
   ],
   "source": [
    "df_agp_rr.head()"
   ]
  },
  {
   "cell_type": "code",
   "execution_count": 32,
   "metadata": {},
   "outputs": [
    {
     "ename": "KeyError",
     "evalue": "'estabelecimento_municipio_nome'",
     "output_type": "error",
     "traceback": [
      "\u001b[1;31m---------------------------------------------------------------------------\u001b[0m",
      "\u001b[1;31mKeyError\u001b[0m                                  Traceback (most recent call last)",
      "\u001b[1;32m~\\AppData\\Local\\Temp/ipykernel_2776/2283984260.py\u001b[0m in \u001b[0;36m<module>\u001b[1;34m\u001b[0m\n\u001b[1;32m----> 1\u001b[1;33m \u001b[0mtop10_CV\u001b[0m \u001b[1;33m=\u001b[0m \u001b[0mbase_dem\u001b[0m\u001b[1;33m.\u001b[0m\u001b[0mgroupby\u001b[0m\u001b[1;33m(\u001b[0m\u001b[1;34m'estabelecimento_municipio_nome'\u001b[0m\u001b[1;33m)\u001b[0m\u001b[1;33m[\u001b[0m\u001b[1;34m'cobertura_vacinal'\u001b[0m\u001b[1;33m]\u001b[0m\u001b[1;33m.\u001b[0m\u001b[0msum\u001b[0m\u001b[1;33m(\u001b[0m\u001b[1;33m)\u001b[0m\u001b[1;33m.\u001b[0m\u001b[0mnlargest\u001b[0m\u001b[1;33m(\u001b[0m\u001b[1;36m10\u001b[0m\u001b[1;33m)\u001b[0m\u001b[1;33m\u001b[0m\u001b[1;33m\u001b[0m\u001b[0m\n\u001b[0m\u001b[0;32m      2\u001b[0m \u001b[0mtop10_CV\u001b[0m \u001b[1;33m=\u001b[0m \u001b[0mtop10_CV\u001b[0m\u001b[1;33m.\u001b[0m\u001b[0mreset_index\u001b[0m\u001b[1;33m(\u001b[0m\u001b[1;33m)\u001b[0m\u001b[1;33m\u001b[0m\u001b[1;33m\u001b[0m\u001b[0m\n\u001b[0;32m      3\u001b[0m \u001b[0mplt\u001b[0m\u001b[1;33m.\u001b[0m\u001b[0mbar\u001b[0m\u001b[1;33m(\u001b[0m\u001b[0mtop10_CV\u001b[0m\u001b[1;33m[\u001b[0m\u001b[1;34m'estabelecimento_municipio_nome'\u001b[0m\u001b[1;33m]\u001b[0m\u001b[1;33m,\u001b[0m \u001b[0mheight\u001b[0m\u001b[1;33m=\u001b[0m\u001b[0mtop10_CV\u001b[0m\u001b[1;33m[\u001b[0m\u001b[1;34m'cobertura_vacinal'\u001b[0m\u001b[1;33m]\u001b[0m\u001b[1;33m)\u001b[0m\u001b[1;33m\u001b[0m\u001b[1;33m\u001b[0m\u001b[0m\n\u001b[0;32m      4\u001b[0m \u001b[1;33m\u001b[0m\u001b[0m\n\u001b[0;32m      5\u001b[0m \u001b[0mplt\u001b[0m\u001b[1;33m.\u001b[0m\u001b[0mylabel\u001b[0m\u001b[1;33m(\u001b[0m\u001b[1;34m'Cobertura Vacinal'\u001b[0m\u001b[1;33m)\u001b[0m\u001b[1;33m\u001b[0m\u001b[1;33m\u001b[0m\u001b[0m\n",
      "\u001b[1;32m~\\AppData\\Local\\Programs\\Python\\Python39\\lib\\site-packages\\pandas\\core\\frame.py\u001b[0m in \u001b[0;36mgroupby\u001b[1;34m(self, by, axis, level, as_index, sort, group_keys, squeeze, observed, dropna)\u001b[0m\n\u001b[0;32m   7624\u001b[0m         \u001b[1;31m# error: Argument \"squeeze\" to \"DataFrameGroupBy\" has incompatible type\u001b[0m\u001b[1;33m\u001b[0m\u001b[1;33m\u001b[0m\u001b[0m\n\u001b[0;32m   7625\u001b[0m         \u001b[1;31m# \"Union[bool, NoDefault]\"; expected \"bool\"\u001b[0m\u001b[1;33m\u001b[0m\u001b[1;33m\u001b[0m\u001b[0m\n\u001b[1;32m-> 7626\u001b[1;33m         return DataFrameGroupBy(\n\u001b[0m\u001b[0;32m   7627\u001b[0m             \u001b[0mobj\u001b[0m\u001b[1;33m=\u001b[0m\u001b[0mself\u001b[0m\u001b[1;33m,\u001b[0m\u001b[1;33m\u001b[0m\u001b[1;33m\u001b[0m\u001b[0m\n\u001b[0;32m   7628\u001b[0m             \u001b[0mkeys\u001b[0m\u001b[1;33m=\u001b[0m\u001b[0mby\u001b[0m\u001b[1;33m,\u001b[0m\u001b[1;33m\u001b[0m\u001b[1;33m\u001b[0m\u001b[0m\n",
      "\u001b[1;32m~\\AppData\\Local\\Programs\\Python\\Python39\\lib\\site-packages\\pandas\\core\\groupby\\groupby.py\u001b[0m in \u001b[0;36m__init__\u001b[1;34m(self, obj, keys, axis, level, grouper, exclusions, selection, as_index, sort, group_keys, squeeze, observed, mutated, dropna)\u001b[0m\n\u001b[0;32m    886\u001b[0m             \u001b[1;32mfrom\u001b[0m \u001b[0mpandas\u001b[0m\u001b[1;33m.\u001b[0m\u001b[0mcore\u001b[0m\u001b[1;33m.\u001b[0m\u001b[0mgroupby\u001b[0m\u001b[1;33m.\u001b[0m\u001b[0mgrouper\u001b[0m \u001b[1;32mimport\u001b[0m \u001b[0mget_grouper\u001b[0m\u001b[1;33m\u001b[0m\u001b[1;33m\u001b[0m\u001b[0m\n\u001b[0;32m    887\u001b[0m \u001b[1;33m\u001b[0m\u001b[0m\n\u001b[1;32m--> 888\u001b[1;33m             grouper, exclusions, obj = get_grouper(\n\u001b[0m\u001b[0;32m    889\u001b[0m                 \u001b[0mobj\u001b[0m\u001b[1;33m,\u001b[0m\u001b[1;33m\u001b[0m\u001b[1;33m\u001b[0m\u001b[0m\n\u001b[0;32m    890\u001b[0m                 \u001b[0mkeys\u001b[0m\u001b[1;33m,\u001b[0m\u001b[1;33m\u001b[0m\u001b[1;33m\u001b[0m\u001b[0m\n",
      "\u001b[1;32m~\\AppData\\Local\\Programs\\Python\\Python39\\lib\\site-packages\\pandas\\core\\groupby\\grouper.py\u001b[0m in \u001b[0;36mget_grouper\u001b[1;34m(obj, key, axis, level, sort, observed, mutated, validate, dropna)\u001b[0m\n\u001b[0;32m    858\u001b[0m                 \u001b[0min_axis\u001b[0m\u001b[1;33m,\u001b[0m \u001b[0mlevel\u001b[0m\u001b[1;33m,\u001b[0m \u001b[0mgpr\u001b[0m \u001b[1;33m=\u001b[0m \u001b[1;32mFalse\u001b[0m\u001b[1;33m,\u001b[0m \u001b[0mgpr\u001b[0m\u001b[1;33m,\u001b[0m \u001b[1;32mNone\u001b[0m\u001b[1;33m\u001b[0m\u001b[1;33m\u001b[0m\u001b[0m\n\u001b[0;32m    859\u001b[0m             \u001b[1;32melse\u001b[0m\u001b[1;33m:\u001b[0m\u001b[1;33m\u001b[0m\u001b[1;33m\u001b[0m\u001b[0m\n\u001b[1;32m--> 860\u001b[1;33m                 \u001b[1;32mraise\u001b[0m \u001b[0mKeyError\u001b[0m\u001b[1;33m(\u001b[0m\u001b[0mgpr\u001b[0m\u001b[1;33m)\u001b[0m\u001b[1;33m\u001b[0m\u001b[1;33m\u001b[0m\u001b[0m\n\u001b[0m\u001b[0;32m    861\u001b[0m         \u001b[1;32melif\u001b[0m \u001b[0misinstance\u001b[0m\u001b[1;33m(\u001b[0m\u001b[0mgpr\u001b[0m\u001b[1;33m,\u001b[0m \u001b[0mGrouper\u001b[0m\u001b[1;33m)\u001b[0m \u001b[1;32mand\u001b[0m \u001b[0mgpr\u001b[0m\u001b[1;33m.\u001b[0m\u001b[0mkey\u001b[0m \u001b[1;32mis\u001b[0m \u001b[1;32mnot\u001b[0m \u001b[1;32mNone\u001b[0m\u001b[1;33m:\u001b[0m\u001b[1;33m\u001b[0m\u001b[1;33m\u001b[0m\u001b[0m\n\u001b[0;32m    862\u001b[0m             \u001b[1;31m# Add key to exclusions\u001b[0m\u001b[1;33m\u001b[0m\u001b[1;33m\u001b[0m\u001b[0m\n",
      "\u001b[1;31mKeyError\u001b[0m: 'estabelecimento_municipio_nome'"
     ]
    }
   ],
   "source": [
    "#gráfico do top 10 dos municípios que possuem a maior cobertura vacinal\n",
    "\n",
    "top10_CV = base_dem.groupby('estabelecimento_municipio_nome')['cobertura_vacinal'].sum().nlargest(10)\n",
    "top10_CV = top10_CV.reset_index()\n",
    "plt.bar(top10_CV['estabelecimento_municipio_nome'], height=top10_CV['cobertura_vacinal'])\n",
    "\n",
    "plt.ylabel('Cobertura Vacinal')\n",
    "plt.xlabel('Município')\n",
    "plt.title('Top 10 dos Municípios com as maiores coberturas vacinais')"
   ]
  },
  {
   "cell_type": "code",
   "execution_count": 63,
   "metadata": {},
   "outputs": [],
   "source": [
    "#transformando as bases em excel\n",
    "\n",
    "df_agp_rr.to_excel('df_agp_rr.xlsx',encoding='utf-8',index=False)\n",
    "df_agp_rj.to_excel('df_agp_rj.xlsx',encoding='utf-8',index=False)\n",
    "df_agp_sp.to_excel('df_agp_sp.xlsx',encoding='utf-8',index=False)\n",
    "df_agp_sc.to_excel('df_agp_sc.xlsx',encoding='utf-8',index=False)\n",
    "df_agp_ms.to_excel('df_agp_ms.xlsx',encoding='utf-8',index=False)\n",
    "df_agp_ap.to_excel('df_agp_ap.xlsx',encoding='utf-8',index=False)\n",
    "df_agp_pa.to_excel('df_agp_pa.xlsx',encoding='utf-8',index=False)"
   ]
  },
  {
   "cell_type": "code",
   "execution_count": null,
   "metadata": {},
   "outputs": [],
   "source": []
  }
 ],
 "metadata": {
  "interpreter": {
   "hash": "658a47a78e79412a894e0710c783c1c6f056bdef6b28ba7f8011309f9ded59b3"
  },
  "kernelspec": {
   "display_name": "Python 3.9.7 64-bit",
   "name": "python3"
  },
  "language_info": {
   "codemirror_mode": {
    "name": "ipython",
    "version": 3
   },
   "file_extension": ".py",
   "mimetype": "text/x-python",
   "name": "python",
   "nbconvert_exporter": "python",
   "pygments_lexer": "ipython3",
   "version": "3.9.7"
  },
  "orig_nbformat": 4
 },
 "nbformat": 4,
 "nbformat_minor": 2
}
